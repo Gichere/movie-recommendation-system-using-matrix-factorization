{
  "nbformat": 4,
  "nbformat_minor": 0,
  "metadata": {
    "colab": {
      "name": "movie_recommender_system.ipynb",
      "provenance": [],
      "authorship_tag": "ABX9TyNP5tuZBVkSSwH7DiEFuBR8",
      "include_colab_link": true
    },
    "kernelspec": {
      "name": "python3",
      "display_name": "Python 3"
    }
  },
  "cells": [
    {
      "cell_type": "markdown",
      "metadata": {
        "id": "view-in-github",
        "colab_type": "text"
      },
      "source": [
        "<a href=\"https://colab.research.google.com/github/Gichere/movie-recommendation-system-using-matrix-factorization/blob/main/movie_recommender_system.ipynb\" target=\"_parent\"><img src=\"https://colab.research.google.com/assets/colab-badge.svg\" alt=\"Open In Colab\"/></a>"
      ]
    },
    {
      "cell_type": "markdown",
      "metadata": {
        "id": "D5L6GDhXXvAi"
      },
      "source": [
        "# Movie recommender system using Matrix factorization-based Algorithm\n",
        "This is a movie recommendation system that considers user-user similarity, movie-movie similarity, global averages, and matrix factorization."
      ]
    },
    {
      "cell_type": "markdown",
      "metadata": {
        "id": "5TYqo70rXToo"
      },
      "source": [
        "Matrix factorization is a class of collaborative filtering algorithms used in recommender systems. The main reason for choosing this algorithm is because highly effective compared to other algorithmslike PCA. This family of methods became widely known during the Netflix prize challenge due to how effective it was.\n",
        "Matrix factorization algorithms work by decomposing the user-movie interaction matrix into the product of two lower dimensionality rectangular matrices, say U and M. The decomposition is done in such a way that the product results in almost similar values to the user-movie interaction matrix. Here, U represents the user matrix, M represents the movie matrix, n is the number of users, and m is the number of movies.\n",
        "Each row of the user matrix represents a user and each column of the movie matrix represents a movie.\n"
      ]
    },
    {
      "cell_type": "markdown",
      "metadata": {
        "id": "RPV9IEuvYAQM"
      },
      "source": [
        "# Introduction to singular value decomposition"
      ]
    },
    {
      "cell_type": "markdown",
      "metadata": {
        "id": "rxdzkyHuYGMw"
      },
      "source": [
        "When it comes to dimensionality reduction, the Singular Value Decomposition (SVD) is a popular method in linear algebra for matrix factorization in machine learning. Such a method shrinks the space dimension from N-dimension to K-dimension (where K<N) and reduces the number of features. SVD constructs a matrix with the row of users and columns of items and the elements are given by the users’ ratings. Singular value decomposition decomposes a matrix into three other matrices and extracts the factors from the factorization of a high-level (user-item-rating) matrix.\n",
        "\n",
        "A=USV^T.\n",
        "\n",
        "Matrix U: singular matrix of (user*latent factors)\n",
        "\n",
        "Matrix S: diagonal matrix (shows the strength of each latent factor)\n",
        "Matrix U: singular matrix of (item*latent factors)\n",
        "\n",
        "From matrix factorization, the latent factors show the characteristics of the items. Finally, the utility matrix A is produced with shape m*n. The final output of the matrix A reduces the dimension through latent factors’ extraction. From the matrix A, it shows the relationships between users and items by mapping the user and item into r-dimensional latent space. Vector X_i is considered each item and vector Y_u is regarded as each user. The rating is given by a user on an item as R_ui = X^T_i * Y_u. The loss can be minimized by the square error difference between the product of R_ui and the expected rating.\n",
        "\n",
        " ![image.png](data:image/png;base64,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)\n",
        "\n",
        "Regularization is used to avoid overfitting and generalize the dataset by adding the penalty.\n",
        "\n",
        "![image.png](data:image/png;base64,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)\n",
        " \n",
        "Here, we add a bias term to reduce the error of actual versus predicted value by the model.\n",
        "\n",
        "(u, i): user-item pair\n",
        "\n",
        "μ: the average rating of all items\n",
        "\n",
        "bi: average rating of item i minus μ\n",
        "\n",
        "bu: the average rating given by user u minus μ\n",
        "\n",
        "The equation below adds the bias term and the regularization term:\n",
        " \n",
        "![image.png](data:image/png;base64,iVBORw0KGgoAAAANSUhEUgAAAeUAAAAmCAYAAAD6O4PMAAAQHUlEQVR4Ae1dXXarug4OGWCTDuNM4T7eh8JISt7vGE69J7LDKFrdJdnyHzYYYihptdfaC7CNJH+m/iz5JyeQf4KAICAICAKCgCBwCAROh7BCjBAEBAFBQBAQBAQBEFKWj0AQEAQEAUFAEDgIAkLKB2kIMUMQEARKEVDQNg00pxNc3u/wVfqalBMEngABIeUnaCQxURAQBBwCQ9+Dokck5wv0d6Flh47cPTsCQsrP3oJivyDwixFQ7RX64aeSsoLOjwg8YzWHG1zPOqrx9vG5eVRDdWc4Nyc4vbzD36/tAQv0fdbRJ6T8izs0qbog8NwIKGhb7TM/dz3S1g+3GygiFiTnK0UE6nT7aX1bpKrbDQasA5FzCx+ViCtp63CDm/oi4keyvPZ/YVNeTuirUT0h5WTrSuKvRGDo4XI6wSn4f4F++JVoHL7SLox9eFMfNlB1z0nKruID3K6dGWS41M3uVAfX/r4tKfvGqw5e+zv8OlIe+gtcjtRDqtZ04K2Z4/Jbad091pFI4dLDLBcgiTydpzBAfzko0aleEzC2q8FV9QXtsK6pD/YWzs/qAUn7saU/phdp4TdeoicXnh76q+50QUFfoU9QXQNNc4K3D+1p5RrH6lUtNNceeDob05v2YzEJhO8hcTWES9gCCrpOLZadrIPq4Ex2aw3DTdu9nkzQ5jO0NjStoDtfof8b4TjcoOuHOnUAdLyvcG6abJhadTUHAAPcXs/0fby8/00SL+tDVP90r9Df14fqq3jKqmXvIk9OlmxO6zpkev+IBLQFMaq2fPCBBFJC4Mm/UJ3o2obbMXVd126hWiTkExyxGX078Xs+uo2+vfXuB+ivLaiQEeqJt5KW6MGyDbSeUarVBMoRDSTSx/4xsU+TX0CgqtuNlF0Y+7Fa0tvfRMo2jF2hClZEzhv2wsq2bIUblSPbkT5N4jRQWfFpViFlrK/u2DOkzGFBv6czaX5SFjfPc8mW+aYMrHdRHRbYp9plBFhlwGK8/nRd6pDpc5CdgvaU+Y4XtOFTFh16uLZq88U4sFjPo6usmXTnW4U9nlFJJGHEhjvZnUgZPUIdhlVwu815mgVlvoGUcX63VZ/wNSKvEco098zzwoncICkZ0se5axMJKBkIlJTRShV0rz3c45DCcINX1Pf5BaGsPyZisNxjrkTKA/R9C23SC1bQXi5wSeYFGGceDhzuBLStdgeOeC0NmdbBSA+sMgMC1T42+MBB2OJ6ZT6JLZOfxc4NMNADTGadDRQYkehx+p5vkSYMF68eMJSTMvAURmAUeut6Ttcm70DKHFL3IwLTrXM0UtahbZwW0HV4gfc4rG0BNTclxE1FFXReGF4ndXA+N25NyNu/yVCzrzIkUj8nuk/NGeMAZ6TPa6E/HZy7D/i0I7lIZuaxDikPPfQKPYxx2E+1LSjywhx56c7/ZMKu2gvDRtPzxfxsyGHUSWo9J0vyXN7Jz9TVJHN51ofJOi3tJU5IQ9taBTZ8X4N0KHStKMxLH3KhUWhDjfn2SWKegGIuC+XG9lncqI66XeMyc3IX52Ob0UIu/l7M92TaLmVnSkdouy5Rqw1S+vQ32sClv9tsDOP6zzZj1Q3+Dei/Vd2JbrX/14SukWSps77AO0/MTtmN3nWzNrS+hJRxgdAQRgtQNxGAZ+AUKZOtSA5v8EEdstnadHm3c9AsKQiJQ25OmUvPXR8kZSQZnKdFu9kjNJ51fntR4ZzynOmcX0rKFLpW8H7Vc72nAgJmFf61lJQpdP3x7rZ3/VvgAaMXfdYrzj2q9tUn76uQ8tC30A9jYsMODvtb6sBicolC0jpkizI0GXMHRyQRv8vhciLEjGeXrK5LJLk+idLAwuWX3JEMOxAZ179ERlxGd/ZcJyQMvo9LRs+Ip1+fKHvJo7aBSWvJm7myeWz0N4L1bKHdcS5Xf184+OF6ahv1iH4B5kGoe0Hnn4Mqm472hSRclZRxsIIkiYuV6O8LFwBtEMpmwlqsZzy3nIUKAGIvU7cre2y5gYDWES/YConTaJ0iZVukgWv/ob+xjLcUyl5OytP1fKEBT0AIs+FrXKiFi80c6UwT16OkrN933jS3EV/f4F8eIHgNrvcHs+edWVzmlbe3sXcb7LQ4QXohF8o/Q4N7n9EWHqgk7LJ66Gbd3HIFUh6gb3W4lYlU29NDS6sitScS8yqWdWm6U8YQuF5I6ciICMIVdHU2Hk8qyxWauItJTKmFK6ixkww7b00wEzpnszQO/s7L4vnlKBoxq2qygCGoSiQPkP4GtPeHZMzEOGlUNpO+keiPizvhrOdNeIXtl1WQy6Bv0LN9UKBml8wbYdZj587Hv3oyre4FpMwEm8Qk7W3it4tY2Q4cyXOOlIlgfbv9+xZS66+QhGiOlOtVoofKasLEyIC1kWXMXgsHS0i0TQtv7+H0ERFfvLK6gJSx826a3ABAG/0oKYdVf9BTJmExyQ6gJj/quPwCggyNN4C4vcapbJ2GOjpQHikm55fzAmzO9IDDFEMSpjA0v5aZX+Zse9WkfM2s2LbFopsKpOw+eEeg3rxokiwi8iGCvBgSx2Gu8/qczMhyCjk/0KkGdq04hAA7voC0xiQdWzz7jDYFo4wIpykBQX2mCpbmaSIN7Sl9Ny6XIWVDTEGV41c3e16Abc4Gsp+/QTc4zRV/LH0BKS9WNP52kSwCkl4sM/UCEms4Nzsi6dRrlLY9KTP53u0xntoYTg+c3RJSBgxb4yAoP4w4KikjkaDZw62jE9MmalC2JSrbrlFGSfiaSFJ588Vjko6kZh9LSBm98s6LHJCnHJB0Tvx3kbK3MILCuZcees/zobS4143IB4kX52bZyaBns/cw+T5ioHpo2/E8ZQ6eUTp1qNojoXnvUYHpBPYsbCmsU0DS3sDEFpq+wXr7UAV190l34CiEJ2+k38tbcxu10RoR7h3s9MO6Yd4IQ/dC+g7bzAcoXaooFQ+eeDxcjsSuSVlP4RSpXlloQ1JGXONvNzpTOrdfeFFl0CsO5mb9VdUh6Y7/JnX+4gViZKBzHLL2ktdv5tGjqayQOI2EAlLGb6xr9XaugNRQl9l3HMpGrzO1TzlrdZRRw1PG6Kw5DWvoC/YW7+8pE0niam5Te9qz3OKCKptg8Y0AGj3Ok7ImfDvHjvP+r2ZfNs0ZX+H9L9rC2+nYCFTllfWTR1aECQ97ysHhCkQcfueb9pA0+XBYJB6lm44OyR7juB55WtO5c2biSJGULZy7MXpw1bgfL84VD9Ijm1M2BuVLHtAeL2wZkaxCPHj+M7ESejHBTZnEuE6VWZgXDDDo3QjDhfIeKm72gVvMEniWycc6nKBFgvcPsKDvgT3oFVGYpHLU1VAkhf6+UQfNASv48gbGyVdnEi0OVO4R8ptWFHrFkR4M/fd6f/4XRsHMlJiTiASeDr27Mrm7eVIOvWHuYAfoux4GImwMx3s96xwpmz20dw7Xqw46cwSkb+URSVmT3Du8YxvYOmvyZQ/abR3bm5Qjr5jnd62dPrrz97OkHIWuecCCA4BBKbjRSWt6u1d3i08Qw21RHS2a876cWaPWk7IhYJq741G2d+gFEi/P6+HVze3pjsyunsbOhd9Hc6lD45XZlODN3WqSdx5p9Dx6d6r+5t2YkblecXosisvhvJ1vP5XTsrnOjMWcSCIungeMC3s4Jb2IaH47Nrf42dNT/E5JwVhu/OzJILxM/a0HiuXtojqv8JJbI8OG5ONnlIVpMfZGh25Hb+BkVu3H7Y9/rD3vNV81YExVypAyfx+XHu64gtl8f25NdurduTQkPP57Ha+6psM6UN+SniWpEvXwlpXxXCvqIU84hdlDW6KSxrhEIt3QQyWybPinIXEAEYbdIUfKd1wl3sDp7UPvaTay42c8zQzhrEvKrkrZO0Nid0NiSMC4sM16mWgTnZZ1CbcvmUGT3jM9wA0HKySjMilnDXcZ2j7zHcWrrs0PYLQlq6OdyIk77e3yQrS3QK7zojHMf7tHp5h965aoiSpVyUICHBFfXnLZmbjTo+cgApBXlc2xZGJLTOuzxXI3POBJYYFpGSLJiUumIyFN4ZzqLJOC0olIajxQSZfAVPSYHDH6AxD/Pv/+njm4Pz8VZsFBmSbv8Xew1r6U97hW1sL3Hmz3Mm1IfOgJRx40vZwgxTKh9UpFJJwl5YKBi/Myj0rK/EMYIXzoJfIhIO7IzP1JObRq/OTjO86tmILh607B571PbH1CMseBnAuzl2pe7ymXaqhUbhz+TAg2nk+242fyonK+x+PJwjKPemRR+G3sYXn6Cm+1DPTK8SAW3LpiyCBF0oUyg2JzhExeYQazQNDUgwn3pnjMe82FU/3Qr3/vFa55a74fhjYp2uKExMsh6qgklkEhJO9RzFg2z7/y837XegOLCZvZozxd4HJBr5096RRJT8jZMCvwaiOSDvImbeDQuC4UvocEF3rsk6LWZCY95f/B+0VHAjg8O44Go214nvQd+uCs66ORcojvGohK3xlur+b87Rd4wZ/Y5C1TK+eSWe/TkDIZzN4iW7/0agh3ide9VAWV38WzMKHWKc+20HhL+BwazV0r6EKT5rZ5cX7gWa+e9y0EwRSb9cYNcZ/8+f9IhZ2G4AFUDdxQLy2+ipRt/viNHjp9K+G515tXd04BzRUP8IXhdG/RWkiuE0KiueXwve8kZf5BjoxnZ38X+QVeXrAs7xE+GClH+E60xGZZf3i1dkHUJGXEc5FyqgYHTONOedLjOqDdxzDJzPXjOoSL/sUsxFEPHDKeaTXDd/DGq9m6kyDyYN2hIjtp/bFqaEHZzN7lH1v5HSqGnv7ZDhh2ULiBCiHlDUAVkU+KwE7e+JOiI2YLAoLADggIKe8Asqh4DgT28cafAwuxUhAQBL4HASHl78F9J624sGrFQiOcv/znn4KV0lgNF26mxWd7zdvvhKCoEQQEAUFgTwSElPdEe2dd6Pk9Mq/tVkHPGI5ETIpyW4Rm3pdsQUAQEAQEAUJASPmnfgjBCnC9FYm3ik2uMDarizWZh562Du/yIRPOAyfyx73FuS1CPxVjqZcgIAgIApUREFKuDOhRxKGXa71k7whD+mWm0RGGodU+aVs52UVQJnxdY9tPaIY8CQKCgCDw6xAQUv6hTR6Hru1z4EGnKh9uC+IQNl79Y1PtPl30rFs8l3vr7UopWyVNEBAEBIGfhYCQ8s9qT1sb6+FSCoehdRjbetC2tHcTecRWTpTObzBp699GfmwOm2XKVRAQBASB34qAkPJPbXnyYM15lmaeGI8u5CMM+0GHnWOC1vPG7PUymWuQdB7PKf8H/kvHIeIzzi97q7AnTrv6qXBLvQQBQUAQqIGAkHINFA8qw4ass/ZN/0iG84KzAiRDEBAEBAFBoCICQsoVwTyiKH/RVmhf6AWHeXTosPvRi1GmJAgCgoAgIAhsgYCQ8haoikxBQBAQBAQBQWAFAkLKK0CTVwQBQUAQEAQEgS0QEFLeAlWRKQgIAoKAICAIrEBASHkFaPKKICAICAKCgCCwBQL/B53KgkiMcDVNAAAAAElFTkSuQmCC)\n"
      ]
    },
    {
      "cell_type": "markdown",
      "metadata": {
        "id": "ba3-NQ5gcJU7"
      },
      "source": [
        "## Installing required new libraries"
      ]
    },
    {
      "cell_type": "code",
      "metadata": {
        "id": "hDpChecFX1dl"
      },
      "source": [
        "# Acquiring the dataset\n",
        "#The dataset used in this movie recommender system is open source dataset\n",
        "#obtained from MovieLens.100,000 ratings and 3,600 tag applications applied \n",
        "# to 9,000 movies by 600 users\n",
        "# https://grouplens.org/datasets/movielens/latest/"
      ],
      "execution_count": null,
      "outputs": []
    },
    {
      "cell_type": "code",
      "metadata": {
        "id": "84LFhu24Za0N"
      },
      "source": [
        "#In this recommender system, Surprise Python Library will be used"
      ],
      "execution_count": null,
      "outputs": []
    },
    {
      "cell_type": "code",
      "metadata": {
        "id": "hmnRrnp9Yd7M",
        "colab": {
          "base_uri": "https://localhost:8080/"
        },
        "outputId": "c116c0d9-24f0-46e3-f264-06bcee73c2c2"
      },
      "source": [
        "#Installing the surprise library\n",
        "!pip install surprise"
      ],
      "execution_count": null,
      "outputs": [
        {
          "output_type": "stream",
          "text": [
            "Collecting surprise\n",
            "  Downloading https://files.pythonhosted.org/packages/61/de/e5cba8682201fcf9c3719a6fdda95693468ed061945493dea2dd37c5618b/surprise-0.1-py2.py3-none-any.whl\n",
            "Collecting scikit-surprise\n",
            "\u001b[?25l  Downloading https://files.pythonhosted.org/packages/97/37/5d334adaf5ddd65da99fc65f6507e0e4599d092ba048f4302fe8775619e8/scikit-surprise-1.1.1.tar.gz (11.8MB)\n",
            "\u001b[K     |████████████████████████████████| 11.8MB 3.9MB/s \n",
            "\u001b[?25hRequirement already satisfied: joblib>=0.11 in /usr/local/lib/python3.6/dist-packages (from scikit-surprise->surprise) (0.17.0)\n",
            "Requirement already satisfied: numpy>=1.11.2 in /usr/local/lib/python3.6/dist-packages (from scikit-surprise->surprise) (1.18.5)\n",
            "Requirement already satisfied: scipy>=1.0.0 in /usr/local/lib/python3.6/dist-packages (from scikit-surprise->surprise) (1.4.1)\n",
            "Requirement already satisfied: six>=1.10.0 in /usr/local/lib/python3.6/dist-packages (from scikit-surprise->surprise) (1.15.0)\n",
            "Building wheels for collected packages: scikit-surprise\n",
            "  Building wheel for scikit-surprise (setup.py) ... \u001b[?25l\u001b[?25hdone\n",
            "  Created wheel for scikit-surprise: filename=scikit_surprise-1.1.1-cp36-cp36m-linux_x86_64.whl size=1670928 sha256=a2d455b55da83ee02c631d60e1c61c59ffbee8d1997ad3f7a1bdd00863c3e566\n",
            "  Stored in directory: /root/.cache/pip/wheels/78/9c/3d/41b419c9d2aff5b6e2b4c0fc8d25c538202834058f9ed110d0\n",
            "Successfully built scikit-surprise\n",
            "Installing collected packages: scikit-surprise, surprise\n",
            "Successfully installed scikit-surprise-1.1.1 surprise-0.1\n"
          ],
          "name": "stdout"
        }
      ]
    },
    {
      "cell_type": "markdown",
      "metadata": {
        "id": "ivV3PU2zbxTx"
      },
      "source": [
        "## Loading the required libraries for the analysis"
      ]
    },
    {
      "cell_type": "code",
      "metadata": {
        "id": "s2aVHdhNaeXy"
      },
      "source": [
        "#loading the required libraries for this project\n",
        "import pandas as pd\n",
        "import numpy as np\n",
        "import seaborn as sns\n",
        "import matplotlib\n",
        "import matplotlib.pyplot as plt\n",
        "import matplotlib.mlab as mlab\n",
        "import surprise\n",
        "import sklearn\n",
        "import scipy as sparse\n",
        "import scipy.sparse._sparsetools\n",
        "import time\n",
        "import xgboost as xgb\n",
        "from scipy.sparse import csr_matrix, find\n",
        "from surprise import SVD\n",
        "from surprise import Reader, Dataset\n",
        "plt.style.use('ggplot')\n",
        "from matplotlib.pyplot import figure\n",
        "from sklearn.metrics.pairwise import cosine_similarity\n",
        "from datetime import datetime\n",
        "from surprise.model_selection import cross_validate\n",
        "from surprise import accuracy"
      ],
      "execution_count": null,
      "outputs": []
    },
    {
      "cell_type": "markdown",
      "metadata": {
        "id": "Ljdfa6_9cVJV"
      },
      "source": [
        "## Dataset Context\n",
        "The dataset used in this project is derived from MovieLens by GroupLens research organization and saved in my GitHub public  repository https://github.com/Gichere/movielens_dataset_latest/blob/main/ratings.csv\n",
        "## Dataset content\n",
        "This dataset (ml-latest-small) describes 5-star rating and free-text tagging activity from MovieLens, a movie recommendation service. It contains 100836 ratings and 3683 tag applications across 9742 movies. These data were created by 610 users between March 29, 1996 and September 24, 2018. This dataset was generated on September 26, 2018.\n",
        "\n",
        "Users were selected at random for inclusion. All selected users had rated at least 20 movies. No demographic information is included. Each user is represented by an id, and no other information is provided.\n",
        "## Dataset Description\n",
        "\n",
        "\n",
        "1.   userID: MovieLens users were selected at random for inclusion. Their ids have been anonymized.\n",
        "2.   movierID: Only movies with at least one rating or tag are included in the dataset. These movie ids are consistent with those used on the MovieLens web site.\n",
        "3. rating: Ratings are made on a 5-star scale, with half-star increments (0.5 stars - 5.0 stars).\n",
        "4. timestamp: Timestamps represent seconds since midnight Coordinated Universal Time (UTC) of January 1, 1970.\n",
        "\n"
      ]
    },
    {
      "cell_type": "code",
      "metadata": {
        "id": "a88WxZ7ya0tw"
      },
      "source": [
        "#getting the ratings data from my Github repository\n",
        "url='https://raw.githubusercontent.com/Gichere/movielens_dataset_latest/main/ratings.csv'\n",
        "movie_data=pd.read_csv(url)\n",
        "#the dataset is now stored as a pandas dataframe"
      ],
      "execution_count": null,
      "outputs": []
    },
    {
      "cell_type": "code",
      "metadata": {
        "id": "kAKG-PN7duNX",
        "colab": {
          "base_uri": "https://localhost:8080/",
          "height": 399
        },
        "outputId": "ea970303-9c0f-4466-fb00-36ca40f9f1eb"
      },
      "source": [
        "movie_data"
      ],
      "execution_count": null,
      "outputs": [
        {
          "output_type": "execute_result",
          "data": {
            "text/html": [
              "<div>\n",
              "<style scoped>\n",
              "    .dataframe tbody tr th:only-of-type {\n",
              "        vertical-align: middle;\n",
              "    }\n",
              "\n",
              "    .dataframe tbody tr th {\n",
              "        vertical-align: top;\n",
              "    }\n",
              "\n",
              "    .dataframe thead th {\n",
              "        text-align: right;\n",
              "    }\n",
              "</style>\n",
              "<table border=\"1\" class=\"dataframe\">\n",
              "  <thead>\n",
              "    <tr style=\"text-align: right;\">\n",
              "      <th></th>\n",
              "      <th>userId</th>\n",
              "      <th>movieId</th>\n",
              "      <th>rating</th>\n",
              "      <th>timestamp</th>\n",
              "    </tr>\n",
              "  </thead>\n",
              "  <tbody>\n",
              "    <tr>\n",
              "      <th>0</th>\n",
              "      <td>1</td>\n",
              "      <td>1</td>\n",
              "      <td>4.0</td>\n",
              "      <td>964982703</td>\n",
              "    </tr>\n",
              "    <tr>\n",
              "      <th>1</th>\n",
              "      <td>1</td>\n",
              "      <td>3</td>\n",
              "      <td>4.0</td>\n",
              "      <td>964981247</td>\n",
              "    </tr>\n",
              "    <tr>\n",
              "      <th>2</th>\n",
              "      <td>1</td>\n",
              "      <td>6</td>\n",
              "      <td>4.0</td>\n",
              "      <td>964982224</td>\n",
              "    </tr>\n",
              "    <tr>\n",
              "      <th>3</th>\n",
              "      <td>1</td>\n",
              "      <td>47</td>\n",
              "      <td>5.0</td>\n",
              "      <td>964983815</td>\n",
              "    </tr>\n",
              "    <tr>\n",
              "      <th>4</th>\n",
              "      <td>1</td>\n",
              "      <td>50</td>\n",
              "      <td>5.0</td>\n",
              "      <td>964982931</td>\n",
              "    </tr>\n",
              "    <tr>\n",
              "      <th>...</th>\n",
              "      <td>...</td>\n",
              "      <td>...</td>\n",
              "      <td>...</td>\n",
              "      <td>...</td>\n",
              "    </tr>\n",
              "    <tr>\n",
              "      <th>100831</th>\n",
              "      <td>610</td>\n",
              "      <td>166534</td>\n",
              "      <td>4.0</td>\n",
              "      <td>1493848402</td>\n",
              "    </tr>\n",
              "    <tr>\n",
              "      <th>100832</th>\n",
              "      <td>610</td>\n",
              "      <td>168248</td>\n",
              "      <td>5.0</td>\n",
              "      <td>1493850091</td>\n",
              "    </tr>\n",
              "    <tr>\n",
              "      <th>100833</th>\n",
              "      <td>610</td>\n",
              "      <td>168250</td>\n",
              "      <td>5.0</td>\n",
              "      <td>1494273047</td>\n",
              "    </tr>\n",
              "    <tr>\n",
              "      <th>100834</th>\n",
              "      <td>610</td>\n",
              "      <td>168252</td>\n",
              "      <td>5.0</td>\n",
              "      <td>1493846352</td>\n",
              "    </tr>\n",
              "    <tr>\n",
              "      <th>100835</th>\n",
              "      <td>610</td>\n",
              "      <td>170875</td>\n",
              "      <td>3.0</td>\n",
              "      <td>1493846415</td>\n",
              "    </tr>\n",
              "  </tbody>\n",
              "</table>\n",
              "<p>100836 rows × 4 columns</p>\n",
              "</div>"
            ],
            "text/plain": [
              "        userId  movieId  rating   timestamp\n",
              "0            1        1     4.0   964982703\n",
              "1            1        3     4.0   964981247\n",
              "2            1        6     4.0   964982224\n",
              "3            1       47     5.0   964983815\n",
              "4            1       50     5.0   964982931\n",
              "...        ...      ...     ...         ...\n",
              "100831     610   166534     4.0  1493848402\n",
              "100832     610   168248     5.0  1493850091\n",
              "100833     610   168250     5.0  1494273047\n",
              "100834     610   168252     5.0  1493846352\n",
              "100835     610   170875     3.0  1493846415\n",
              "\n",
              "[100836 rows x 4 columns]"
            ]
          },
          "metadata": {
            "tags": []
          },
          "execution_count": 7
        }
      ]
    },
    {
      "cell_type": "markdown",
      "metadata": {
        "id": "lrndlW1VckcP"
      },
      "source": [
        "## Summarizing the data"
      ]
    },
    {
      "cell_type": "code",
      "metadata": {
        "id": "5tEypJWHcshK",
        "colab": {
          "base_uri": "https://localhost:8080/",
          "height": 282
        },
        "outputId": "a529027b-e6ca-4b17-c07e-751ec96c3f67"
      },
      "source": [
        "pd.DataFrame.describe(movie_data)"
      ],
      "execution_count": null,
      "outputs": [
        {
          "output_type": "execute_result",
          "data": {
            "text/html": [
              "<div>\n",
              "<style scoped>\n",
              "    .dataframe tbody tr th:only-of-type {\n",
              "        vertical-align: middle;\n",
              "    }\n",
              "\n",
              "    .dataframe tbody tr th {\n",
              "        vertical-align: top;\n",
              "    }\n",
              "\n",
              "    .dataframe thead th {\n",
              "        text-align: right;\n",
              "    }\n",
              "</style>\n",
              "<table border=\"1\" class=\"dataframe\">\n",
              "  <thead>\n",
              "    <tr style=\"text-align: right;\">\n",
              "      <th></th>\n",
              "      <th>userId</th>\n",
              "      <th>movieId</th>\n",
              "      <th>rating</th>\n",
              "      <th>timestamp</th>\n",
              "    </tr>\n",
              "  </thead>\n",
              "  <tbody>\n",
              "    <tr>\n",
              "      <th>count</th>\n",
              "      <td>100836.000000</td>\n",
              "      <td>100836.000000</td>\n",
              "      <td>100836.000000</td>\n",
              "      <td>1.008360e+05</td>\n",
              "    </tr>\n",
              "    <tr>\n",
              "      <th>mean</th>\n",
              "      <td>326.127564</td>\n",
              "      <td>19435.295718</td>\n",
              "      <td>3.501557</td>\n",
              "      <td>1.205946e+09</td>\n",
              "    </tr>\n",
              "    <tr>\n",
              "      <th>std</th>\n",
              "      <td>182.618491</td>\n",
              "      <td>35530.987199</td>\n",
              "      <td>1.042529</td>\n",
              "      <td>2.162610e+08</td>\n",
              "    </tr>\n",
              "    <tr>\n",
              "      <th>min</th>\n",
              "      <td>1.000000</td>\n",
              "      <td>1.000000</td>\n",
              "      <td>0.500000</td>\n",
              "      <td>8.281246e+08</td>\n",
              "    </tr>\n",
              "    <tr>\n",
              "      <th>25%</th>\n",
              "      <td>177.000000</td>\n",
              "      <td>1199.000000</td>\n",
              "      <td>3.000000</td>\n",
              "      <td>1.019124e+09</td>\n",
              "    </tr>\n",
              "    <tr>\n",
              "      <th>50%</th>\n",
              "      <td>325.000000</td>\n",
              "      <td>2991.000000</td>\n",
              "      <td>3.500000</td>\n",
              "      <td>1.186087e+09</td>\n",
              "    </tr>\n",
              "    <tr>\n",
              "      <th>75%</th>\n",
              "      <td>477.000000</td>\n",
              "      <td>8122.000000</td>\n",
              "      <td>4.000000</td>\n",
              "      <td>1.435994e+09</td>\n",
              "    </tr>\n",
              "    <tr>\n",
              "      <th>max</th>\n",
              "      <td>610.000000</td>\n",
              "      <td>193609.000000</td>\n",
              "      <td>5.000000</td>\n",
              "      <td>1.537799e+09</td>\n",
              "    </tr>\n",
              "  </tbody>\n",
              "</table>\n",
              "</div>"
            ],
            "text/plain": [
              "              userId        movieId         rating     timestamp\n",
              "count  100836.000000  100836.000000  100836.000000  1.008360e+05\n",
              "mean      326.127564   19435.295718       3.501557  1.205946e+09\n",
              "std       182.618491   35530.987199       1.042529  2.162610e+08\n",
              "min         1.000000       1.000000       0.500000  8.281246e+08\n",
              "25%       177.000000    1199.000000       3.000000  1.019124e+09\n",
              "50%       325.000000    2991.000000       3.500000  1.186087e+09\n",
              "75%       477.000000    8122.000000       4.000000  1.435994e+09\n",
              "max       610.000000  193609.000000       5.000000  1.537799e+09"
            ]
          },
          "metadata": {
            "tags": []
          },
          "execution_count": 8
        }
      ]
    },
    {
      "cell_type": "markdown",
      "metadata": {
        "id": "F6x7otDVd9ho"
      },
      "source": [
        "## Exploratory Data Analysis (EDA)"
      ]
    },
    {
      "cell_type": "markdown",
      "metadata": {
        "id": "up1Vpt16hSJy"
      },
      "source": [
        "Checking for Nan Values and Duplicates\n"
      ]
    },
    {
      "cell_type": "code",
      "metadata": {
        "id": "Tbc7DVb9gywU",
        "colab": {
          "base_uri": "https://localhost:8080/"
        },
        "outputId": "4a81ef3b-40ca-49f8-ce99-d42c2524750c"
      },
      "source": [
        "print(\"No of Nan values in the dataframe:\",sum(movie_data.isnull().any()))"
      ],
      "execution_count": null,
      "outputs": [
        {
          "output_type": "stream",
          "text": [
            "No of Nan values in the dataframe: 0\n"
          ],
          "name": "stdout"
        }
      ]
    },
    {
      "cell_type": "code",
      "metadata": {
        "id": "AS5tMAIWj9dV",
        "colab": {
          "base_uri": "https://localhost:8080/"
        },
        "outputId": "0ccd3dd9-6c76-44f6-fc9c-452f826aa17e"
      },
      "source": [
        "dup_data=movie_data.duplicated(['movieId','userId','rating'])\n",
        "dups=sum(dup_data)\n",
        "print(\"There are {} duplicate ratings entries in the data..\".format(dups))"
      ],
      "execution_count": null,
      "outputs": [
        {
          "output_type": "stream",
          "text": [
            "There are 0 duplicate ratings entries in the data..\n"
          ],
          "name": "stdout"
        }
      ]
    },
    {
      "cell_type": "markdown",
      "metadata": {
        "id": "M9lvr7aCibns"
      },
      "source": [
        "## Performing basic statistics on the data"
      ]
    },
    {
      "cell_type": "code",
      "metadata": {
        "id": "WUtUDJE2heO6",
        "colab": {
          "base_uri": "https://localhost:8080/"
        },
        "outputId": "b5469a02-796d-4838-bf57-eee4d5871c4e"
      },
      "source": [
        "print(\"Total data\")\n",
        "print(\"-\"*50)\n",
        "print(\"\\nTotal no of ratings :\",movie_data.shape[0])\n",
        "print(\"Total No of users :\", len(np.unique(movie_data.userId)))\n",
        "print(\"Total No of movies :\", len(np.unique(movie_data.movieId)))"
      ],
      "execution_count": null,
      "outputs": [
        {
          "output_type": "stream",
          "text": [
            "Total data\n",
            "--------------------------------------------------\n",
            "\n",
            "Total no of ratings : 100836\n",
            "Total No of users : 610\n",
            "Total No of movies : 9724\n"
          ],
          "name": "stdout"
        }
      ]
    },
    {
      "cell_type": "code",
      "metadata": {
        "id": "B70wtHQ8l2Hr"
      },
      "source": [
        ""
      ],
      "execution_count": null,
      "outputs": []
    },
    {
      "cell_type": "markdown",
      "metadata": {
        "id": "bcG7yq7WlMyO"
      },
      "source": [
        "## Preparing data"
      ]
    },
    {
      "cell_type": "code",
      "metadata": {
        "id": "ZC9hoq3qeXq8"
      },
      "source": [
        "#Preparing the dataset for use (Cleaning the data)"
      ],
      "execution_count": null,
      "outputs": []
    },
    {
      "cell_type": "code",
      "metadata": {
        "id": "aJS2ZkwIW2zI",
        "colab": {
          "base_uri": "https://localhost:8080/"
        },
        "outputId": "ae239947-9786-404b-bd6a-59dd282c6ce1"
      },
      "source": [
        "#Checking the columns\n",
        "movie_data.columns"
      ],
      "execution_count": null,
      "outputs": [
        {
          "output_type": "execute_result",
          "data": {
            "text/plain": [
              "Index(['userId', 'movieId', 'rating', 'timestamp'], dtype='object')"
            ]
          },
          "metadata": {
            "tags": []
          },
          "execution_count": 25
        }
      ]
    },
    {
      "cell_type": "code",
      "metadata": {
        "id": "o10eiQzIgZve",
        "colab": {
          "base_uri": "https://localhost:8080/"
        },
        "outputId": "914ca318-0456-47ba-9921-abb3c9241cb8"
      },
      "source": [
        "#Checking the shape and the data types of the movie dataset\n",
        "movie_data.columns\n",
        "print(movie_data.shape)\n",
        "print(movie_data.dtypes)"
      ],
      "execution_count": null,
      "outputs": [
        {
          "output_type": "stream",
          "text": [
            "(100836, 4)\n",
            "userId         int64\n",
            "movieId        int64\n",
            "rating       float64\n",
            "timestamp      int64\n",
            "dtype: object\n"
          ],
          "name": "stdout"
        }
      ]
    },
    {
      "cell_type": "code",
      "metadata": {
        "id": "DUwyhO20g0KH",
        "colab": {
          "base_uri": "https://localhost:8080/",
          "height": 287
        },
        "outputId": "5fb66f09-c91a-444f-f1f0-a094831496b4"
      },
      "source": [
        "#Checking for missing data\n",
        "cols = movie_data.columns[:4]\n",
        "#Specifying the clours to represent missing and non-missing datapoints.\n",
        "#Yellow is non-missing, Blue is missing\n",
        "colours = ['#000099', '#ffff00']\n",
        "sns.heatmap(movie_data[cols].isnull(), cmap=sns.color_palette(colours))\n",
        "#The dataset does not have any missing datapoints"
      ],
      "execution_count": null,
      "outputs": [
        {
          "output_type": "execute_result",
          "data": {
            "text/plain": [
              "<matplotlib.axes._subplots.AxesSubplot at 0x7f7fe2df39b0>"
            ]
          },
          "metadata": {
            "tags": []
          },
          "execution_count": 26
        },
        {
          "output_type": "display_data",
          "data": {
            "image/png": "[encoded data removed]",
            "text/plain": [
              "<Figure size 432x288 with 2 Axes>"
            ]
          },
          "metadata": {
            "tags": []
          }
        }
      ]
    },
    {
      "cell_type": "code",
      "metadata": {
        "id": "MuVbGNK3l11u"
      },
      "source": [
        "#Dropping columns or features not needed in this model\n",
        "movie_data=movie_data.drop('timestamp',axis=1)"
      ],
      "execution_count": null,
      "outputs": []
    },
    {
      "cell_type": "code",
      "metadata": {
        "id": "GRM1igif3Fb7",
        "colab": {
          "base_uri": "https://localhost:8080/",
          "height": 566
        },
        "outputId": "44a0e373-16e2-4760-f856-77e431859d14"
      },
      "source": [
        "######\n",
        "sns.set(style=\"white\")\n",
        "df = movie_data.loc[:,['userId','movieId','rating']]\n",
        "g = sns.PairGrid(df, diag_sharey=False)\n",
        "g.map_lower(sns.kdeplot, cmap=\"Blues_d\")\n",
        "g.map_upper(plt.scatter)\n",
        "g.map_diag(sns.kdeplot, lw=3)\n"
      ],
      "execution_count": null,
      "outputs": [
        {
          "output_type": "execute_result",
          "data": {
            "text/plain": [
              "<seaborn.axisgrid.PairGrid at 0x7fbef4f0ed68>"
            ]
          },
          "metadata": {
            "tags": []
          },
          "execution_count": 18
        },
        {
          "output_type": "display_data",
          "data": {
            "image/png": "[encoded data removed]",
            "text/plain": [
              "<Figure size 540x540 with 12 Axes>"
            ]
          },
          "metadata": {
            "tags": []
          }
        }
      ]
    },
    {
      "cell_type": "code",
      "metadata": {
        "id": "TUa5O2cQWUlm",
        "colab": {
          "base_uri": "https://localhost:8080/",
          "height": 598
        },
        "outputId": "b964e79c-7911-4431-c3e6-341c521c4d08"
      },
      "source": [
        "#Correlation Matrix\n",
        "plt.figure(figsize=(10,10))\n",
        "cor = movie_data.corr(method='spearman')\n",
        "#Correlation with output variable\n",
        "sns.heatmap(cor, annot=True, cmap=plt.cm.Reds)\n",
        "plt.show()"
      ],
      "execution_count": null,
      "outputs": [
        {
          "output_type": "display_data",
          "data": {
            "image/png": "[encoded data removed]",
            "text/plain": [
              "<Figure size 720x720 with 2 Axes>"
            ]
          },
          "metadata": {
            "tags": []
          }
        }
      ]
    },
    {
      "cell_type": "code",
      "metadata": {
        "id": "nD7ktu1zmMv2",
        "colab": {
          "base_uri": "https://localhost:8080/",
          "height": 282
        },
        "outputId": "a9d69094-13f6-4f6e-cd4d-ff280970dcbf"
      },
      "source": [
        "movie_data.describe()"
      ],
      "execution_count": null,
      "outputs": [
        {
          "output_type": "execute_result",
          "data": {
            "text/html": [
              "<div>\n",
              "<style scoped>\n",
              "    .dataframe tbody tr th:only-of-type {\n",
              "        vertical-align: middle;\n",
              "    }\n",
              "\n",
              "    .dataframe tbody tr th {\n",
              "        vertical-align: top;\n",
              "    }\n",
              "\n",
              "    .dataframe thead th {\n",
              "        text-align: right;\n",
              "    }\n",
              "</style>\n",
              "<table border=\"1\" class=\"dataframe\">\n",
              "  <thead>\n",
              "    <tr style=\"text-align: right;\">\n",
              "      <th></th>\n",
              "      <th>userId</th>\n",
              "      <th>movieId</th>\n",
              "      <th>rating</th>\n",
              "      <th>timestamp</th>\n",
              "    </tr>\n",
              "  </thead>\n",
              "  <tbody>\n",
              "    <tr>\n",
              "      <th>count</th>\n",
              "      <td>100836.000000</td>\n",
              "      <td>100836.000000</td>\n",
              "      <td>100836.000000</td>\n",
              "      <td>1.008360e+05</td>\n",
              "    </tr>\n",
              "    <tr>\n",
              "      <th>mean</th>\n",
              "      <td>326.127564</td>\n",
              "      <td>19435.295718</td>\n",
              "      <td>3.501557</td>\n",
              "      <td>1.205946e+09</td>\n",
              "    </tr>\n",
              "    <tr>\n",
              "      <th>std</th>\n",
              "      <td>182.618491</td>\n",
              "      <td>35530.987199</td>\n",
              "      <td>1.042529</td>\n",
              "      <td>2.162610e+08</td>\n",
              "    </tr>\n",
              "    <tr>\n",
              "      <th>min</th>\n",
              "      <td>1.000000</td>\n",
              "      <td>1.000000</td>\n",
              "      <td>0.500000</td>\n",
              "      <td>8.281246e+08</td>\n",
              "    </tr>\n",
              "    <tr>\n",
              "      <th>25%</th>\n",
              "      <td>177.000000</td>\n",
              "      <td>1199.000000</td>\n",
              "      <td>3.000000</td>\n",
              "      <td>1.019124e+09</td>\n",
              "    </tr>\n",
              "    <tr>\n",
              "      <th>50%</th>\n",
              "      <td>325.000000</td>\n",
              "      <td>2991.000000</td>\n",
              "      <td>3.500000</td>\n",
              "      <td>1.186087e+09</td>\n",
              "    </tr>\n",
              "    <tr>\n",
              "      <th>75%</th>\n",
              "      <td>477.000000</td>\n",
              "      <td>8122.000000</td>\n",
              "      <td>4.000000</td>\n",
              "      <td>1.435994e+09</td>\n",
              "    </tr>\n",
              "    <tr>\n",
              "      <th>max</th>\n",
              "      <td>610.000000</td>\n",
              "      <td>193609.000000</td>\n",
              "      <td>5.000000</td>\n",
              "      <td>1.537799e+09</td>\n",
              "    </tr>\n",
              "  </tbody>\n",
              "</table>\n",
              "</div>"
            ],
            "text/plain": [
              "              userId        movieId         rating     timestamp\n",
              "count  100836.000000  100836.000000  100836.000000  1.008360e+05\n",
              "mean      326.127564   19435.295718       3.501557  1.205946e+09\n",
              "std       182.618491   35530.987199       1.042529  2.162610e+08\n",
              "min         1.000000       1.000000       0.500000  8.281246e+08\n",
              "25%       177.000000    1199.000000       3.000000  1.019124e+09\n",
              "50%       325.000000    2991.000000       3.500000  1.186087e+09\n",
              "75%       477.000000    8122.000000       4.000000  1.435994e+09\n",
              "max       610.000000  193609.000000       5.000000  1.537799e+09"
            ]
          },
          "metadata": {
            "tags": []
          },
          "execution_count": 23
        }
      ]
    },
    {
      "cell_type": "code",
      "metadata": {
        "id": "l652XewHlZvH"
      },
      "source": [
        "#Spliting the dataset into two sets, training set and test set\n",
        "#80% of the data will be used for training the model \n",
        "#and 20% will be used to test the model\n",
        "train_movie_data=movie_data.iloc[:int(movie_data.shape[0]*0.75)]\n",
        "test_movie_data=movie_data.iloc[int(movie_data.shape[0]*0.75):]"
      ],
      "execution_count": null,
      "outputs": []
    },
    {
      "cell_type": "code",
      "metadata": {
        "id": "9jRmNJXUqKte",
        "colab": {
          "base_uri": "https://localhost:8080/"
        },
        "outputId": "3747d0cb-d33c-431a-a168-55587b031231"
      },
      "source": [
        "train_movie_data.shape #checking the train dataset"
      ],
      "execution_count": null,
      "outputs": [
        {
          "output_type": "execute_result",
          "data": {
            "text/plain": [
              "(75627, 3)"
            ]
          },
          "metadata": {
            "tags": []
          },
          "execution_count": 200
        }
      ]
    },
    {
      "cell_type": "code",
      "metadata": {
        "id": "oqYJjxjfqVfz",
        "colab": {
          "base_uri": "https://localhost:8080/"
        },
        "outputId": "afa1ba4d-ad69-4715-bcf3-6deeb4527090"
      },
      "source": [
        "test_movie_data.shape"
      ],
      "execution_count": null,
      "outputs": [
        {
          "output_type": "execute_result",
          "data": {
            "text/plain": [
              "(25209, 3)"
            ]
          },
          "metadata": {
            "tags": []
          },
          "execution_count": 201
        }
      ]
    },
    {
      "cell_type": "code",
      "metadata": {
        "id": "Ce1rWfeItF_0"
      },
      "source": [
        "#Preparing a train set from train movie data"
      ],
      "execution_count": null,
      "outputs": []
    },
    {
      "cell_type": "code",
      "metadata": {
        "id": "dgvt2VPsC4jK"
      },
      "source": [
        "#Specifying how to read the dataframe\n",
        "reader=Reader(rating_scale=(1,5))\n",
        "#creating the train movie data from the dataframe\n",
        "train_movie_data_mf=Dataset.load_from_df(train_movie_data[['userId','movieId',\n",
        "                                                           'rating']], reader)\n",
        "#Building the trainset from train movie data. Making it of dataset format from\n",
        "#surprise library\n",
        "trainset=train_movie_data_mf.build_full_trainset()"
      ],
      "execution_count": null,
      "outputs": []
    },
    {
      "cell_type": "code",
      "metadata": {
        "id": "vNHbJBlfFpYg"
      },
      "source": [
        "#Preparing the test set from test movie data"
      ],
      "execution_count": null,
      "outputs": []
    },
    {
      "cell_type": "code",
      "metadata": {
        "id": "tG6VhHSZGiDw"
      },
      "source": [
        "# Again we have to Specify how to read the dataframe.\n",
        "reader = Reader(rating_scale=(1,5))\n",
        "\n",
        "# creating the test data from the dataframe...\n",
        "test_movie_data_mf = Dataset.load_from_df(test_movie_data[['userId', 'movieId',\n",
        "                                                           'rating']], reader)\n",
        "\n",
        "# Building the testset from testdata. again making itof dataset format from \n",
        "#surprise library.\n",
        "testset = test_movie_data_mf.build_full_trainset()"
      ],
      "execution_count": null,
      "outputs": []
    },
    {
      "cell_type": "code",
      "metadata": {
        "id": "LH92flp1Hdxw"
      },
      "source": [
        "svd=SVD(n_factors=100, biased=True, random_state=15, verbose=True)\n",
        "svd.fit(trainset)"
      ],
      "execution_count": null,
      "outputs": []
    },
    {
      "cell_type": "markdown",
      "metadata": {
        "id": "MPnM6CBm2Way"
      },
      "source": [
        "Storing these predictions to pass to the final model as an additional feature. This will help to incorporate collaborative filtering into our system."
      ]
    },
    {
      "cell_type": "code",
      "metadata": {
        "id": "wBxLTFScH-Qe"
      },
      "source": [
        "#saving the predictions from the training "
      ],
      "execution_count": null,
      "outputs": []
    },
    {
      "cell_type": "code",
      "metadata": {
        "id": "eO8ZVWWyIKBs"
      },
      "source": [
        "#now getting the trainset predictions\n",
        "train_preds = svd.test(trainset.build_testset())\n",
        "train_pred_mf = np.array([pred.est for pred in train_preds])"
      ],
      "execution_count": null,
      "outputs": []
    },
    {
      "cell_type": "code",
      "metadata": {
        "id": "w-aPmIdnImRz"
      },
      "source": [
        "#Processing and storing predictions for the test data"
      ],
      "execution_count": null,
      "outputs": []
    },
    {
      "cell_type": "code",
      "metadata": {
        "id": "zxExJ2bmI_VY"
      },
      "source": [
        "#Generating the predictions of testset data\n",
        "test_preds = svd.test(testset.build_testset())\n",
        "test_pred_mf = np.array([pred.est for pred in test_preds])"
      ],
      "execution_count": null,
      "outputs": []
    },
    {
      "cell_type": "code",
      "metadata": {
        "id": "dCLlh0nk2iUW",
        "colab": {
          "base_uri": "https://localhost:8080/"
        },
        "outputId": "d2df310d-b430-4872-c93a-2d8a6dc5baf1"
      },
      "source": [
        "#Calculating the Root Mean Square Error to evaluate the model\n",
        "train_rmse=accuracy.rmse(train_preds)"
      ],
      "execution_count": null,
      "outputs": [
        {
          "output_type": "stream",
          "text": [
            "RMSE: 0.6442\n"
          ],
          "name": "stdout"
        }
      ]
    },
    {
      "cell_type": "code",
      "metadata": {
        "id": "cQ5hQRAMoN__"
      },
      "source": [
        "#XGBoost"
      ],
      "execution_count": null,
      "outputs": []
    },
    {
      "cell_type": "code",
      "metadata": {
        "id": "aEHTM9J1mobA"
      },
      "source": [
        "#Converting the data in the dataframe format into an interaction matrix\n",
        "#user-movie interaction matrix\n",
        "train_sparse_matrix = csr_matrix((train_movie_data.rating.values, \n",
        "                                         (train_movie_data.userId.values, \n",
        "                                          train_movie_data.movieId.values)))"
      ],
      "execution_count": null,
      "outputs": []
    },
    {
      "cell_type": "markdown",
      "metadata": {
        "id": "ODJjRiKr3Epe"
      },
      "source": [
        "## Creating three sets of features using this sparse matrix:\n",
        "Features which represent global averages.\n",
        "\n",
        "Features which represent the top five similar movies.\n",
        "\n",
        "Features which represent the top five similar users"
      ]
    },
    {
      "cell_type": "markdown",
      "metadata": {
        "id": "6lTvVgaa3YOm"
      },
      "source": [
        "## Features representing global averages\n",
        "\n",
        "## Getting the global average of ratings in our train set."
      ]
    },
    {
      "cell_type": "code",
      "metadata": {
        "id": "Kg7kSXJUvkSp",
        "colab": {
          "base_uri": "https://localhost:8080/"
        },
        "outputId": "84a20744-4edf-4f8e-86f8-a8069aa9a427"
      },
      "source": [
        "\n",
        "train_averages = dict()\n",
        "train_global_average = train_sparse_matrix.sum()/train_sparse_matrix.count_nonzero()\n",
        "train_averages['global'] = train_global_average\n",
        "train_averages"
      ],
      "execution_count": null,
      "outputs": [
        {
          "output_type": "execute_result",
          "data": {
            "text/plain": [
              "{'global': 3.523212609253309}"
            ]
          },
          "metadata": {
            "tags": []
          },
          "execution_count": 216
        }
      ]
    },
    {
      "cell_type": "code",
      "metadata": {
        "id": "PNDZnCtznRy8"
      },
      "source": [
        "#Creating a function which takes the sparse matrix as input and gives \n",
        "#the average ratings of a movie given by all users, and the average rating of \n",
        "#all movies given by a single user"
      ],
      "execution_count": null,
      "outputs": []
    },
    {
      "cell_type": "markdown",
      "metadata": {
        "id": "pR2WoqHs4IIO"
      },
      "source": [
        "## Average ratings given by a given user"
      ]
    },
    {
      "cell_type": "code",
      "metadata": {
        "id": "O4VwYv091XXN",
        "colab": {
          "base_uri": "https://localhost:8080/"
        },
        "outputId": "8a5883bd-9969-4840-f83b-585505a134d6"
      },
      "source": [
        "train_averages['user'] = get_average_ratings(train_sparse_matrix, of_users=True)\n",
        "print('\\nAverage rating of user 15 is :',train_averages['user'][15])"
      ],
      "execution_count": null,
      "outputs": [
        {
          "output_type": "stream",
          "text": [
            "\n",
            "Average rating of user 15 is : 3.448148148148148\n"
          ],
          "name": "stdout"
        }
      ]
    },
    {
      "cell_type": "markdown",
      "metadata": {
        "id": "5baCVivR3_FV"
      },
      "source": [
        "## Average rating given for a given movie"
      ]
    },
    {
      "cell_type": "code",
      "metadata": {
        "id": "_C_Xofif13f_",
        "colab": {
          "base_uri": "https://localhost:8080/"
        },
        "outputId": "28f1aea7-6539-441c-a568-54906fda303a"
      },
      "source": [
        "train_averages['movie'] =  get_average_ratings(train_sparse_matrix, of_users=False)\n",
        "print('\\n Average rating of movie 30 is :',train_averages['movie'][30])"
      ],
      "execution_count": null,
      "outputs": [
        {
          "output_type": "stream",
          "text": [
            "\n",
            " Average rating of movie 20 is : 4.0\n"
          ],
          "name": "stdout"
        }
      ]
    },
    {
      "cell_type": "markdown",
      "metadata": {
        "id": "TQGiYFMW6-OB"
      },
      "source": [
        "## Get users, movies and ratings from our samples train sparse matrix"
      ]
    },
    {
      "cell_type": "code",
      "metadata": {
        "id": "_kmY5iIryfwf"
      },
      "source": [
        "train_users, train_movies, train_ratings = scipy.sparse.find(train_sparse_matrix)"
      ],
      "execution_count": null,
      "outputs": []
    },
    {
      "cell_type": "markdown",
      "metadata": {
        "id": "W31BfWNn7Kn3"
      },
      "source": [
        "# Feature selection\n",
        "## Features which represent the top 5 similar users\n",
        "In this set of features, we will create the top 5 similar users who rated a particular movie. The similarity is calculated using the cosine similarity between the users.\n",
        "## Features which represent the top 5 similar movies\n",
        "In this set of features, we obtain the top 5 similar movies rated by a particular user. This similarity is calculated using the cosine similarity between the movies.\n",
        "Later appending all these features for each movie-user pair and create a data frame."
      ]
    },
    {
      "cell_type": "code",
      "metadata": {
        "id": "Rbs0ZxjKFvjX"
      },
      "source": [
        "start=time.time()\n",
        "\n",
        "final_data = pd.DataFrame()\n",
        "count = 0\n",
        "for (user, movie, rating)  in zip(train_users, train_movies, train_ratings):\n",
        "            st = datetime.now()\n",
        "        #     print(user, movie)    \n",
        "            #--------------------- Ratings of \"movie\" by similar users of \"user\" ---------------------\n",
        "            # compute the similar Users of the \"user\"        \n",
        "            user_sim = cosine_similarity(train_sparse_matrix[user], train_sparse_matrix).ravel()\n",
        "            top_sim_users = user_sim.argsort()[::-1][1:] # we are ignoring 'The User' from its similar users.\n",
        "            # get the ratings of most similar users for this movie\n",
        "            top_ratings = train_sparse_matrix[top_sim_users, movie].toarray().ravel()\n",
        "            # we will make it's length \"5\" by adding movie averages to .\n",
        "            top_sim_users_ratings = list(top_ratings[top_ratings != 0][:5])\n",
        "            top_sim_users_ratings.extend([train_averages['movie'][movie]]*(5 - len(top_sim_users_ratings)))\n",
        "        #     print(top_sim_users_ratings, end=\" \")    \n",
        "\n",
        "\n",
        "            #--------------------- Ratings by \"user\"  to similar movies of \"movie\" ---------------------\n",
        "            # compute the similar movies of the \"movie\"        \n",
        "            movie_sim = cosine_similarity(train_sparse_matrix[:,movie].T, train_sparse_matrix.T).ravel()\n",
        "            top_sim_movies = movie_sim.argsort()[::-1][1:] # we are ignoring 'The User' from its similar users.\n",
        "            # get the ratings of most similar movie rated by this user..\n",
        "            top_ratings = train_sparse_matrix[user, top_sim_movies].toarray().ravel()\n",
        "            # we will make it's length \"5\" by adding user averages to.\n",
        "            top_sim_movies_ratings = list(top_ratings[top_ratings != 0][:5])\n",
        "            top_sim_movies_ratings.extend([train_averages['user'][user]]*(5-len(top_sim_movies_ratings))) \n",
        "        #     print(top_sim_movies_ratings, end=\" : -- \")\n",
        "\n",
        "            #-----------------prepare the row to be stores in a file-----------------#\n",
        "            row = list()\n",
        "            row.append(user)\n",
        "            row.append(movie)\n",
        "            # Now add the other features to this data...\n",
        "            row.append(train_averages['global']) # first feature\n",
        "            # next 5 features are similar_users \"movie\" ratings\n",
        "            row.extend(top_sim_users_ratings)\n",
        "            # next 5 features are \"user\" ratings for similar_movies\n",
        "            row.extend(top_sim_movies_ratings)\n",
        "            # Avg_user rating\n",
        "            row.append(train_averages['user'][user])\n",
        "            # Avg_movie rating\n",
        "            row.append(train_averages['movie'][movie])\n",
        "\n",
        "            # finalley, The actual Rating of this user-movie pair...\n",
        "            row.append(rating)\n",
        "            count = count + 1\n",
        "            final_data = final_data.append([row])\n",
        "            print(count)\n",
        "\n",
        "            end=time.time()\n",
        "\n",
        "\n",
        "            if (count)%5000 == 0:\n",
        "                # print(','.join(map(str, row)))\n",
        "                print(\"Done for {} rows----- {}\".format\n",
        "                      (count, end - start))"
      ],
      "execution_count": null,
      "outputs": []
    },
    {
      "cell_type": "code",
      "metadata": {
        "id": "mn7ioLjjPtan"
      },
      "source": [
        "final_data.columns=['user', 'movie', 'GAvg', 'sur1', 'sur2', 'sur3', 'sur4', 'sur5',\n",
        "            'smr1', 'smr2', 'smr3', 'smr4', 'smr5', 'UAvg', 'MAvg', 'rating']"
      ],
      "execution_count": null,
      "outputs": []
    },
    {
      "cell_type": "code",
      "metadata": {
        "id": "kdx6et8BPx2H",
        "colab": {
          "base_uri": "https://localhost:8080/"
        },
        "outputId": "fc181c4a-aa85-495e-9717-f6149e6775d6"
      },
      "source": [
        "final_data.shape"
      ],
      "execution_count": null,
      "outputs": [
        {
          "output_type": "execute_result",
          "data": {
            "text/plain": [
              "(75627, 16)"
            ]
          },
          "metadata": {
            "tags": []
          },
          "execution_count": 225
        }
      ]
    },
    {
      "cell_type": "code",
      "metadata": {
        "id": "WFSZnQX2P0oO",
        "colab": {
          "base_uri": "https://localhost:8080/",
          "height": 214
        },
        "outputId": "222c2757-5ff7-41e1-d548-747c784f0dae"
      },
      "source": [
        "final_data.head()"
      ],
      "execution_count": null,
      "outputs": [
        {
          "output_type": "execute_result",
          "data": {
            "text/html": [
              "<div>\n",
              "<style scoped>\n",
              "    .dataframe tbody tr th:only-of-type {\n",
              "        vertical-align: middle;\n",
              "    }\n",
              "\n",
              "    .dataframe tbody tr th {\n",
              "        vertical-align: top;\n",
              "    }\n",
              "\n",
              "    .dataframe thead th {\n",
              "        text-align: right;\n",
              "    }\n",
              "</style>\n",
              "<table border=\"1\" class=\"dataframe\">\n",
              "  <thead>\n",
              "    <tr style=\"text-align: right;\">\n",
              "      <th></th>\n",
              "      <th>user</th>\n",
              "      <th>movie</th>\n",
              "      <th>GAvg</th>\n",
              "      <th>sur1</th>\n",
              "      <th>sur2</th>\n",
              "      <th>sur3</th>\n",
              "      <th>sur4</th>\n",
              "      <th>sur5</th>\n",
              "      <th>smr1</th>\n",
              "      <th>smr2</th>\n",
              "      <th>smr3</th>\n",
              "      <th>smr4</th>\n",
              "      <th>smr5</th>\n",
              "      <th>UAvg</th>\n",
              "      <th>MAvg</th>\n",
              "      <th>rating</th>\n",
              "    </tr>\n",
              "  </thead>\n",
              "  <tbody>\n",
              "    <tr>\n",
              "      <th>0</th>\n",
              "      <td>1</td>\n",
              "      <td>1</td>\n",
              "      <td>3.523213</td>\n",
              "      <td>2.0</td>\n",
              "      <td>5.0</td>\n",
              "      <td>4.0</td>\n",
              "      <td>4.0</td>\n",
              "      <td>4.5</td>\n",
              "      <td>3.0</td>\n",
              "      <td>3.0</td>\n",
              "      <td>4.0</td>\n",
              "      <td>5.0</td>\n",
              "      <td>4.0</td>\n",
              "      <td>4.366379</td>\n",
              "      <td>3.95509</td>\n",
              "      <td>4.0</td>\n",
              "    </tr>\n",
              "    <tr>\n",
              "      <th>0</th>\n",
              "      <td>5</td>\n",
              "      <td>1</td>\n",
              "      <td>3.523213</td>\n",
              "      <td>4.0</td>\n",
              "      <td>5.0</td>\n",
              "      <td>4.0</td>\n",
              "      <td>4.0</td>\n",
              "      <td>5.0</td>\n",
              "      <td>4.0</td>\n",
              "      <td>3.0</td>\n",
              "      <td>3.0</td>\n",
              "      <td>5.0</td>\n",
              "      <td>3.0</td>\n",
              "      <td>3.636364</td>\n",
              "      <td>3.95509</td>\n",
              "      <td>4.0</td>\n",
              "    </tr>\n",
              "    <tr>\n",
              "      <th>0</th>\n",
              "      <td>7</td>\n",
              "      <td>1</td>\n",
              "      <td>3.523213</td>\n",
              "      <td>4.0</td>\n",
              "      <td>4.0</td>\n",
              "      <td>5.0</td>\n",
              "      <td>4.5</td>\n",
              "      <td>4.0</td>\n",
              "      <td>4.5</td>\n",
              "      <td>4.0</td>\n",
              "      <td>4.5</td>\n",
              "      <td>5.0</td>\n",
              "      <td>3.0</td>\n",
              "      <td>3.230263</td>\n",
              "      <td>3.95509</td>\n",
              "      <td>4.5</td>\n",
              "    </tr>\n",
              "    <tr>\n",
              "      <th>0</th>\n",
              "      <td>15</td>\n",
              "      <td>1</td>\n",
              "      <td>3.523213</td>\n",
              "      <td>5.0</td>\n",
              "      <td>3.0</td>\n",
              "      <td>4.0</td>\n",
              "      <td>4.0</td>\n",
              "      <td>4.0</td>\n",
              "      <td>3.5</td>\n",
              "      <td>3.0</td>\n",
              "      <td>5.0</td>\n",
              "      <td>3.5</td>\n",
              "      <td>3.0</td>\n",
              "      <td>3.448148</td>\n",
              "      <td>3.95509</td>\n",
              "      <td>2.5</td>\n",
              "    </tr>\n",
              "    <tr>\n",
              "      <th>0</th>\n",
              "      <td>17</td>\n",
              "      <td>1</td>\n",
              "      <td>3.523213</td>\n",
              "      <td>4.0</td>\n",
              "      <td>5.0</td>\n",
              "      <td>4.0</td>\n",
              "      <td>4.0</td>\n",
              "      <td>4.5</td>\n",
              "      <td>4.0</td>\n",
              "      <td>4.5</td>\n",
              "      <td>5.0</td>\n",
              "      <td>3.5</td>\n",
              "      <td>5.0</td>\n",
              "      <td>4.209524</td>\n",
              "      <td>3.95509</td>\n",
              "      <td>4.5</td>\n",
              "    </tr>\n",
              "  </tbody>\n",
              "</table>\n",
              "</div>"
            ],
            "text/plain": [
              "   user  movie      GAvg  sur1  sur2  ...  smr4  smr5      UAvg     MAvg  rating\n",
              "0     1      1  3.523213   2.0   5.0  ...   5.0   4.0  4.366379  3.95509     4.0\n",
              "0     5      1  3.523213   4.0   5.0  ...   5.0   3.0  3.636364  3.95509     4.0\n",
              "0     7      1  3.523213   4.0   4.0  ...   5.0   3.0  3.230263  3.95509     4.5\n",
              "0    15      1  3.523213   5.0   3.0  ...   3.5   3.0  3.448148  3.95509     2.5\n",
              "0    17      1  3.523213   4.0   5.0  ...   3.5   5.0  4.209524  3.95509     4.5\n",
              "\n",
              "[5 rows x 16 columns]"
            ]
          },
          "metadata": {
            "tags": []
          },
          "execution_count": 226
        }
      ]
    },
    {
      "cell_type": "markdown",
      "metadata": {
        "id": "2JH3M-zf8NyT"
      },
      "source": [
        "## Detailed breakdown of the features\n",
        "GAvg: Average rating of all the ratings\n",
        "\n",
        "Similar users rating of this movie: sur1, sur2, sur3, sur4, sur5 ( top 5 similar users who rated that movie )\n",
        "\n",
        "Similar movies rated by this user: smr1, smr2, smr3, smr4, smr5 ( top 5 similar movies rated by user)\n",
        "\n",
        "UAvg: User AVerage rating\n",
        "\n",
        "MAvg: Average rating of this movie\n",
        "\n",
        "rating: Rating of this movie by this user."
      ]
    },
    {
      "cell_type": "markdown",
      "metadata": {
        "id": "3XbAFul_9d3D"
      },
      "source": [
        "Once we have the features ready, we’ll add the Matrix Factorization output as the last feature"
      ]
    },
    {
      "cell_type": "code",
      "metadata": {
        "id": "S_lc-YWFP9sF"
      },
      "source": [
        "final_data['mf_svd']=train_pred_mf"
      ],
      "execution_count": null,
      "outputs": []
    },
    {
      "cell_type": "code",
      "metadata": {
        "id": "G9F9T9UWQgXl",
        "colab": {
          "base_uri": "https://localhost:8080/",
          "height": 214
        },
        "outputId": "57ab234f-f126-40eb-ef3a-b0f584741e7a"
      },
      "source": [
        "final_data.head()"
      ],
      "execution_count": null,
      "outputs": [
        {
          "output_type": "execute_result",
          "data": {
            "text/html": [
              "<div>\n",
              "<style scoped>\n",
              "    .dataframe tbody tr th:only-of-type {\n",
              "        vertical-align: middle;\n",
              "    }\n",
              "\n",
              "    .dataframe tbody tr th {\n",
              "        vertical-align: top;\n",
              "    }\n",
              "\n",
              "    .dataframe thead th {\n",
              "        text-align: right;\n",
              "    }\n",
              "</style>\n",
              "<table border=\"1\" class=\"dataframe\">\n",
              "  <thead>\n",
              "    <tr style=\"text-align: right;\">\n",
              "      <th></th>\n",
              "      <th>user</th>\n",
              "      <th>movie</th>\n",
              "      <th>GAvg</th>\n",
              "      <th>sur1</th>\n",
              "      <th>sur2</th>\n",
              "      <th>sur3</th>\n",
              "      <th>sur4</th>\n",
              "      <th>sur5</th>\n",
              "      <th>smr1</th>\n",
              "      <th>smr2</th>\n",
              "      <th>smr3</th>\n",
              "      <th>smr4</th>\n",
              "      <th>smr5</th>\n",
              "      <th>UAvg</th>\n",
              "      <th>MAvg</th>\n",
              "      <th>rating</th>\n",
              "      <th>mf_svd</th>\n",
              "    </tr>\n",
              "  </thead>\n",
              "  <tbody>\n",
              "    <tr>\n",
              "      <th>0</th>\n",
              "      <td>1</td>\n",
              "      <td>1</td>\n",
              "      <td>3.523213</td>\n",
              "      <td>2.0</td>\n",
              "      <td>5.0</td>\n",
              "      <td>4.0</td>\n",
              "      <td>4.0</td>\n",
              "      <td>4.5</td>\n",
              "      <td>3.0</td>\n",
              "      <td>3.0</td>\n",
              "      <td>4.0</td>\n",
              "      <td>5.0</td>\n",
              "      <td>4.0</td>\n",
              "      <td>4.366379</td>\n",
              "      <td>3.95509</td>\n",
              "      <td>4.0</td>\n",
              "      <td>4.317647</td>\n",
              "    </tr>\n",
              "    <tr>\n",
              "      <th>0</th>\n",
              "      <td>5</td>\n",
              "      <td>1</td>\n",
              "      <td>3.523213</td>\n",
              "      <td>4.0</td>\n",
              "      <td>5.0</td>\n",
              "      <td>4.0</td>\n",
              "      <td>4.0</td>\n",
              "      <td>5.0</td>\n",
              "      <td>4.0</td>\n",
              "      <td>3.0</td>\n",
              "      <td>3.0</td>\n",
              "      <td>5.0</td>\n",
              "      <td>3.0</td>\n",
              "      <td>3.636364</td>\n",
              "      <td>3.95509</td>\n",
              "      <td>4.0</td>\n",
              "      <td>4.220295</td>\n",
              "    </tr>\n",
              "    <tr>\n",
              "      <th>0</th>\n",
              "      <td>7</td>\n",
              "      <td>1</td>\n",
              "      <td>3.523213</td>\n",
              "      <td>4.0</td>\n",
              "      <td>4.0</td>\n",
              "      <td>5.0</td>\n",
              "      <td>4.5</td>\n",
              "      <td>4.0</td>\n",
              "      <td>4.5</td>\n",
              "      <td>4.0</td>\n",
              "      <td>4.5</td>\n",
              "      <td>5.0</td>\n",
              "      <td>3.0</td>\n",
              "      <td>3.230263</td>\n",
              "      <td>3.95509</td>\n",
              "      <td>4.5</td>\n",
              "      <td>4.604097</td>\n",
              "    </tr>\n",
              "    <tr>\n",
              "      <th>0</th>\n",
              "      <td>15</td>\n",
              "      <td>1</td>\n",
              "      <td>3.523213</td>\n",
              "      <td>5.0</td>\n",
              "      <td>3.0</td>\n",
              "      <td>4.0</td>\n",
              "      <td>4.0</td>\n",
              "      <td>4.0</td>\n",
              "      <td>3.5</td>\n",
              "      <td>3.0</td>\n",
              "      <td>5.0</td>\n",
              "      <td>3.5</td>\n",
              "      <td>3.0</td>\n",
              "      <td>3.448148</td>\n",
              "      <td>3.95509</td>\n",
              "      <td>2.5</td>\n",
              "      <td>4.807926</td>\n",
              "    </tr>\n",
              "    <tr>\n",
              "      <th>0</th>\n",
              "      <td>17</td>\n",
              "      <td>1</td>\n",
              "      <td>3.523213</td>\n",
              "      <td>4.0</td>\n",
              "      <td>5.0</td>\n",
              "      <td>4.0</td>\n",
              "      <td>4.0</td>\n",
              "      <td>4.5</td>\n",
              "      <td>4.0</td>\n",
              "      <td>4.5</td>\n",
              "      <td>5.0</td>\n",
              "      <td>3.5</td>\n",
              "      <td>5.0</td>\n",
              "      <td>4.209524</td>\n",
              "      <td>3.95509</td>\n",
              "      <td>4.5</td>\n",
              "      <td>4.892774</td>\n",
              "    </tr>\n",
              "  </tbody>\n",
              "</table>\n",
              "</div>"
            ],
            "text/plain": [
              "   user  movie      GAvg  sur1  sur2  ...  smr5      UAvg     MAvg  rating    mf_svd\n",
              "0     1      1  3.523213   2.0   5.0  ...   4.0  4.366379  3.95509     4.0  4.317647\n",
              "0     5      1  3.523213   4.0   5.0  ...   3.0  3.636364  3.95509     4.0  4.220295\n",
              "0     7      1  3.523213   4.0   4.0  ...   3.0  3.230263  3.95509     4.5  4.604097\n",
              "0    15      1  3.523213   5.0   3.0  ...   3.0  3.448148  3.95509     2.5  4.807926\n",
              "0    17      1  3.523213   4.0   5.0  ...   5.0  4.209524  3.95509     4.5  4.892774\n",
              "\n",
              "[5 rows x 17 columns]"
            ]
          },
          "metadata": {
            "tags": []
          },
          "execution_count": 228
        }
      ]
    },
    {
      "cell_type": "code",
      "metadata": {
        "id": "xJJT3jbZQy1f"
      },
      "source": [
        "#Preparing test data for XGBoost"
      ],
      "execution_count": null,
      "outputs": []
    },
    {
      "cell_type": "code",
      "metadata": {
        "id": "m6TyEiAqQ4sL"
      },
      "source": [
        "# Creating a sparse matrix\n",
        "test_sparse_matrix = csr_matrix((test_movie_data.rating.values, \n",
        "                                              (test_movie_data.userId.values,\n",
        "                                               test_movie_data.movieId.values)))"
      ],
      "execution_count": null,
      "outputs": []
    },
    {
      "cell_type": "code",
      "metadata": {
        "id": "Ft21WeMUSEZ9",
        "colab": {
          "base_uri": "https://localhost:8080/"
        },
        "outputId": "f4db270d-5d6e-4017-af4f-c7a01bd4ab1e"
      },
      "source": [
        "# Global avg of all movies by all users\n",
        "\n",
        "test_averages = dict()\n",
        "# get the global average of ratings in our train set.\n",
        "test_global_average = test_sparse_matrix.sum()/test_sparse_matrix.count_nonzero()\n",
        "test_averages['global'] = test_global_average\n",
        "test_averages"
      ],
      "execution_count": null,
      "outputs": [
        {
          "output_type": "execute_result",
          "data": {
            "text/plain": [
              "{'global': 3.436590106707922}"
            ]
          },
          "metadata": {
            "tags": []
          },
          "execution_count": 231
        }
      ]
    },
    {
      "cell_type": "code",
      "metadata": {
        "id": "vONhUiyRSVm-"
      },
      "source": [
        "# get the user averages in dictionary (key: user_id/movie_id, value: avg rating)\n",
        "\n",
        "def get_average_ratings(sparse_matrix, of_users):\n",
        "    \n",
        "    # average ratings of user/axes\n",
        "    ax = 1 if of_users else 0 # 1 - User axes,0 - Movie axes\n",
        "\n",
        "    # \".A1\" is for converting Column_Matrix to 1-D numpy array \n",
        "    sum_of_ratings = sparse_matrix.sum(axis=ax).A1\n",
        "    # Boolean matrix of ratings ( whether a user rated that movie or not)\n",
        "    is_rated = sparse_matrix!=0\n",
        "    # no of ratings that each user OR movie..\n",
        "    no_of_ratings = is_rated.sum(axis=ax).A1\n",
        "    \n",
        "    # max_user  and max_movie ids in sparse matrix \n",
        "    u,m = sparse_matrix.shape\n",
        "    # creae a dictonary of users and their average ratigns..\n",
        "    average_ratings = { i : sum_of_ratings[i]/no_of_ratings[i]\n",
        "                                 for i in range(u if of_users else m) \n",
        "                                    if no_of_ratings[i] !=0}\n",
        "\n",
        "    # return that dictionary of average ratings\n",
        "    return average_ratings"
      ],
      "execution_count": null,
      "outputs": []
    },
    {
      "cell_type": "code",
      "metadata": {
        "id": "kJLc-jDVShGv",
        "colab": {
          "base_uri": "https://localhost:8080/"
        },
        "outputId": "14843340-9f37-48bd-e811-2fc535af21a9"
      },
      "source": [
        "# Average ratings given by a user\n",
        "\n",
        "test_averages['user'] = get_average_ratings(test_sparse_matrix, of_users=True)\n",
        "#print('\\nAverage rating of user 10 :',test_averages['user'][10])\n",
        "\n",
        "# Average ratings given for a movie\n",
        "\n",
        "test_averages['movie'] =  get_average_ratings(test_sparse_matrix, of_users=False)\n",
        "print('\\n AVerage rating of movie 15 is :',test_averages['movie'][15])"
      ],
      "execution_count": null,
      "outputs": [
        {
          "output_type": "stream",
          "text": [
            "\n",
            " AVerage rating of movie 15 is : 2.6666666666666665\n"
          ],
          "name": "stdout"
        }
      ]
    },
    {
      "cell_type": "code",
      "metadata": {
        "id": "wMgwf1fcS26p"
      },
      "source": [
        "# get users, movies and ratings from our samples train sparse matrix\n",
        "test_users, test_movies, test_ratings = scipy.sparse.find(test_sparse_matrix)"
      ],
      "execution_count": null,
      "outputs": []
    },
    {
      "cell_type": "code",
      "metadata": {
        "id": "aO9JUbxETIXe"
      },
      "source": [
        ""
      ],
      "execution_count": null,
      "outputs": []
    },
    {
      "cell_type": "code",
      "metadata": {
        "id": "mrT5snszOjAG"
      },
      "source": [
        "start=time.time()\n",
        "\n",
        "final_test_data = pd.DataFrame()\n",
        "count = 0\n",
        "for (user, movie, rating)  in zip(test_users, test_movies, test_ratings):\n",
        "            st = datetime.now()\n",
        "        #     print(user, movie)    \n",
        "            #--------------------- Ratings of \"movie\" by similar users of \"user\" ---------------------\n",
        "            # compute the similar Users of the \"user\"        \n",
        "            user_sim = cosine_similarity(test_sparse_matrix[user], test_sparse_matrix).ravel()\n",
        "            top_sim_users = user_sim.argsort()[::-1][1:] # we are ignoring 'The User' from its similar users.\n",
        "            # get the ratings of most similar users for this movie\n",
        "            top_ratings = test_sparse_matrix[top_sim_users, movie].toarray().ravel()\n",
        "            # we will make it's length \"5\" by adding movie averages to .\n",
        "            top_sim_users_ratings = list(top_ratings[top_ratings != 0][:5])\n",
        "            top_sim_users_ratings.extend([test_averages['movie'][movie]]*(5 - len(top_sim_users_ratings)))\n",
        "        #     print(top_sim_users_ratings, end=\" \")    \n",
        "\n",
        "\n",
        "            #--------------------- Ratings by \"user\"  to similar movies of \"movie\" ---------------------\n",
        "            # compute the similar movies of the \"movie\"        \n",
        "            movie_sim = cosine_similarity(test_sparse_matrix[:,movie].T, test_sparse_matrix.T).ravel()\n",
        "            top_sim_movies = movie_sim.argsort()[::-1][1:] # we are ignoring 'The User' from its similar users.\n",
        "            # get the ratings of most similar movie rated by this user..\n",
        "            top_ratings = test_sparse_matrix[user, top_sim_movies].toarray().ravel()\n",
        "            # we will make it's length \"5\" by adding user averages to.\n",
        "            top_sim_movies_ratings = list(top_ratings[top_ratings != 0][:5])\n",
        "            top_sim_movies_ratings.extend([test_averages['user'][user]]*(5-len(top_sim_movies_ratings))) \n",
        "        #     print(top_sim_movies_ratings, end=\" : -- \")\n",
        "\n",
        "            #-----------------prepare the row to be stores in a file-----------------#\n",
        "            row = list()\n",
        "            row.append(user)\n",
        "            row.append(movie)\n",
        "            # Now add the other features to this data...\n",
        "            row.append(test_averages['global']) # first feature\n",
        "            # next 5 features are similar_users \"movie\" ratings\n",
        "            row.extend(top_sim_users_ratings)\n",
        "            # next 5 features are \"user\" ratings for similar_movies\n",
        "            row.extend(top_sim_movies_ratings)\n",
        "            # Avg_user rating\n",
        "            row.append(test_averages['user'][user])\n",
        "            # Avg_movie rating\n",
        "            row.append(test_averages['movie'][movie])\n",
        "\n",
        "            # finalley, The actual Rating of this user-movie pair...\n",
        "            row.append(rating)\n",
        "            count = count + 1\n",
        "            final_test_data = final_test_data.append([row])\n",
        "            print(count)\n",
        "\n",
        "           \n",
        "            end=time.time()\n",
        "\n",
        "\n",
        "            if (count)%10000 == 0:\n",
        "                # print(','.join(map(str, row)))\n",
        "                print(\"Done for {} rows----- {}\".format\n",
        "                      (count, end - start))"
      ],
      "execution_count": null,
      "outputs": []
    },
    {
      "cell_type": "code",
      "metadata": {
        "id": "gbomk8i4TY6w"
      },
      "source": [
        "final_test_data.columns=['user', 'movie', 'GAvg', 'sur1', 'sur2', 'sur3', 'sur4', 'sur5',\n",
        "            'smr1', 'smr2', 'smr3', 'smr4', 'smr5', 'UAvg', 'MAvg', 'rating']"
      ],
      "execution_count": null,
      "outputs": []
    },
    {
      "cell_type": "code",
      "metadata": {
        "id": "B2hRLeqeTj8m",
        "colab": {
          "base_uri": "https://localhost:8080/"
        },
        "outputId": "c6dbfcae-c464-460f-b086-034bb049a3bf"
      },
      "source": [
        "final_test_data.shape"
      ],
      "execution_count": null,
      "outputs": [
        {
          "output_type": "execute_result",
          "data": {
            "text/plain": [
              "(25209, 16)"
            ]
          },
          "metadata": {
            "tags": []
          },
          "execution_count": 237
        }
      ]
    },
    {
      "cell_type": "code",
      "metadata": {
        "id": "NwjYJGpDTmtd",
        "colab": {
          "base_uri": "https://localhost:8080/"
        },
        "outputId": "8fed4594-4ce3-488d-a3d9-aeea7e263233"
      },
      "source": [
        "test_pred_mf.shape"
      ],
      "execution_count": null,
      "outputs": [
        {
          "output_type": "execute_result",
          "data": {
            "text/plain": [
              "(25209,)"
            ]
          },
          "metadata": {
            "tags": []
          },
          "execution_count": 238
        }
      ]
    },
    {
      "cell_type": "code",
      "metadata": {
        "id": "y3sPS6PvTrhz"
      },
      "source": [
        "final_test_data['mf_svd']=test_pred_mf"
      ],
      "execution_count": null,
      "outputs": []
    },
    {
      "cell_type": "markdown",
      "metadata": {
        "id": "kSAklf6tuny5"
      },
      "source": [
        "# Creating the final model\n",
        "To create the final model, XGBoost is used, an optimized distributed gradient boosting library."
      ]
    },
    {
      "cell_type": "code",
      "metadata": {
        "id": "rd1BWv9UTzTY"
      },
      "source": [
        "def get_error_metrics(y_true, y_pred):\n",
        "    rmse = np.sqrt(np.mean([ (y_true[i] - y_pred[i])**2 for i in range(len(y_pred)) ]))\n",
        "    mape = np.mean(np.abs( (y_true - y_pred)/y_true )) * 100\n",
        "    return rmse, mape"
      ],
      "execution_count": null,
      "outputs": []
    },
    {
      "cell_type": "code",
      "metadata": {
        "id": "NaW51GhmT3Zg"
      },
      "source": [
        "# prepare train data\n",
        "x_train = final_data.drop(['user', 'movie','rating'], axis=1)\n",
        "y_train = final_data['rating']"
      ],
      "execution_count": null,
      "outputs": []
    },
    {
      "cell_type": "code",
      "metadata": {
        "id": "Qz4aN9xOT6-b"
      },
      "source": [
        "# Prepare Test data\n",
        "x_test = final_test_data.drop(['user','movie','rating'], axis=1)\n",
        "y_test = final_test_data['rating']"
      ],
      "execution_count": null,
      "outputs": []
    },
    {
      "cell_type": "code",
      "metadata": {
        "id": "dNNaoiDJT-I2"
      },
      "source": [
        "# initialize XGBoost model...\n",
        "xgb_model = xgb.XGBRegressor(silent=False, n_jobs=13, random_state=15, n_estimators=100)\n",
        "# dictionaries for storing train and test results\n",
        "train_results = dict()\n",
        "test_results = dict()"
      ],
      "execution_count": null,
      "outputs": []
    },
    {
      "cell_type": "markdown",
      "metadata": {
        "id": "9K6M69eovXIH"
      },
      "source": [
        "## Fitting the model"
      ]
    },
    {
      "cell_type": "code",
      "metadata": {
        "id": "lRFds__RvRi_"
      },
      "source": [
        "print('Training the model..')\n",
        "start =datetime.now()\n",
        "xgb_model.fit(x_train, y_train, eval_metric = 'rmse')\n",
        "print('Done. Time taken : {}\\n'.format(datetime.now()-start))\n",
        "print('Done \\n')"
      ],
      "execution_count": null,
      "outputs": []
    },
    {
      "cell_type": "markdown",
      "metadata": {
        "id": "4213raeUvcn3"
      },
      "source": [
        "## Getting the predictions from trained model"
      ]
    },
    {
      "cell_type": "code",
      "metadata": {
        "id": "QY99BN64UI3o",
        "colab": {
          "base_uri": "https://localhost:8080/"
        },
        "outputId": "804ca54b-1ce6-45ba-f0b0-e65b7c8bc380"
      },
      "source": [
        "# from the trained model, get the predictions....\n",
        "print('Evaluating the model with TRAIN data...')\n",
        "start =datetime.now()\n",
        "y_train_pred = xgb_model.predict(x_train)"
      ],
      "execution_count": null,
      "outputs": [
        {
          "output_type": "stream",
          "text": [
            "Evaluating the model with TRAIN data...\n"
          ],
          "name": "stdout"
        }
      ]
    },
    {
      "cell_type": "markdown",
      "metadata": {
        "id": "1A_EkPcnv7ci"
      },
      "source": [
        "## Performance Metrics\n",
        "There are two methods to evaluate a recommender system’s performance: Root Mean Squared Error (RMSE) and Mean Absolute Percentage Error (MAPE). \n",
        "RMSE measures the squared loss, while MAPE measures the absolute loss. \n",
        "Lower values mean lower error rates and thus better performance."
      ]
    },
    {
      "cell_type": "code",
      "metadata": {
        "id": "SijQFnI2v1kj"
      },
      "source": [
        "# get the rmse and mape of train data...\n",
        "rmse_train, mape_train = get_error_metrics(y_train.values, y_train_pred)"
      ],
      "execution_count": null,
      "outputs": []
    },
    {
      "cell_type": "code",
      "metadata": {
        "id": "wm1tZp-ZvsQ3"
      },
      "source": [
        "# store the results in train_results dictionary..\n",
        "train_results = {'rmse': rmse_train,\n",
        "                    'mape' : mape_train,\n",
        "                    'predictions' : y_train_pred}"
      ],
      "execution_count": null,
      "outputs": []
    },
    {
      "cell_type": "code",
      "metadata": {
        "id": "FzKxeBAuUM0Q",
        "colab": {
          "base_uri": "https://localhost:8080/"
        },
        "outputId": "da5df1bf-1992-45bb-cfd0-22648abefb17"
      },
      "source": [
        "train_results"
      ],
      "execution_count": null,
      "outputs": [
        {
          "output_type": "execute_result",
          "data": {
            "text/plain": [
              "{'mape': 23.622783399042323,\n",
              " 'predictions': array([3.9901397, 3.869542 , 3.9282753, ..., 3.6485524, 3.6485524,\n",
              "        4.130275 ], dtype=float32),\n",
              " 'rmse': 0.7481251380615668}"
            ]
          },
          "metadata": {
            "tags": []
          },
          "execution_count": 246
        }
      ]
    },
    {
      "cell_type": "markdown",
      "metadata": {
        "id": "UFVvhWDKwm2A"
      },
      "source": [
        "## Getting the test data error metrics"
      ]
    },
    {
      "cell_type": "code",
      "metadata": {
        "id": "TpF0d-rVUP_h",
        "colab": {
          "base_uri": "https://localhost:8080/"
        },
        "outputId": "934c1296-ac5e-4493-e93a-046bee80c5aa"
      },
      "source": [
        "# get the test data predictions and compute rmse and mape\n",
        "print('Evaluating Test data')\n",
        "y_test_pred = xgb_model.predict(x_test) \n",
        "rmse_test, mape_test = get_error_metrics(y_true=y_test.values, y_pred=y_test_pred)\n",
        "# store them in our test results dictionary.\n",
        "test_results = {'rmse': rmse_test,\n",
        "                    'mape' : mape_test,\n",
        "                    'predictions':y_test_pred}"
      ],
      "execution_count": null,
      "outputs": [
        {
          "output_type": "stream",
          "text": [
            "Evaluating Test data\n"
          ],
          "name": "stdout"
        }
      ]
    },
    {
      "cell_type": "code",
      "metadata": {
        "id": "VX-O_O5LUUKb",
        "colab": {
          "base_uri": "https://localhost:8080/"
        },
        "outputId": "f7289f2f-8dc0-46ce-df1c-92cbb191e4f4"
      },
      "source": [
        "test_results"
      ],
      "execution_count": null,
      "outputs": [
        {
          "output_type": "execute_result",
          "data": {
            "text/plain": [
              "{'mape': 23.420129097965404,\n",
              " 'predictions': array([3.9167855, 4.2151937, 3.7768009, ..., 4.374909 , 3.855084 ,\n",
              "        3.3955393], dtype=float32),\n",
              " 'rmse': 0.7249094087739354}"
            ]
          },
          "metadata": {
            "tags": []
          },
          "execution_count": 248
        }
      ]
    },
    {
      "cell_type": "markdown",
      "metadata": {
        "id": "m72R_Vt7w0J0"
      },
      "source": [
        "# Conclusion"
      ]
    },
    {
      "cell_type": "markdown",
      "metadata": {
        "id": "cQSqgIazxWaB"
      },
      "source": [
        "Singular value decomposition decomposes three matrices and the latent factors show the characteristics of the items. It reduces the dimension through latent factors’ extraction. By adding the regularization and bias term, it optimizes the model performance by minimizing the rmse error."
      ]
    },
    {
      "cell_type": "markdown",
      "metadata": {
        "id": "MJ6KoPjuxgGq"
      },
      "source": [
        "Our model resulted in 0.72 RMSE, and 23.42 MAPE on the unseen test data, which is a good-to-go model. An RMSE value of less than 2 is considered good, and a MAPE less than 25 is excellent. That said, this model can be further enhanced by adding features that would be recommended based on the top picks dependent on location or genre. We could also test the efficacy of our various models in real-time through A/B testing.\n"
      ]
    },
    {
      "cell_type": "markdown",
      "metadata": {
        "id": "k43YUh868JL9"
      },
      "source": [
        "# References \n",
        "F. Maxwell Harper and Joseph A. Konstan. 2015. The MovieLens Datasets: History and Context. ACM Transactions on Interactive Intelligent Systems (TiiS) 5, 4: 19:1–19:19. https://doi.org/10.1145/2827872.\n",
        "\n",
        "Salma Elshahawy, Msc. Towards datascience, Understanding Matrix Factorization for recommender systems\n",
        "\n",
        "\n"
      ]
    }
  ]
}